{
 "cells": [
  {
   "cell_type": "markdown",
   "metadata": {},
   "source": [
    "# 1. Compute popcount function for n = 4 qubits\n",
    "Popcount, also known as the Hamming weight or simply weight, is a popular instruction in classical computing that is utilized in certain implementations of quantum algorithms. In particular, this includes Hamiltonian dynamics simulation algorithms, which are considered to be among the most important as they offer exponential advantage over best-known classical algorithms for solutions to practical problems (in areas such as many-body physics, materials research, and chemistry). For the Boolean $n$-tuple $(x_1,x_2,...,x_n)$, popcount is defined as the integer sum of inputs, \n",
    "<h3>\n",
    "$$\\text{Popcount}(x_1,x_2,...,x_n)=(y_1,y_2,...,y_m)=x_1+x_2+...+x_n, $$\n",
    "</h3>\n",
    "where $m=\\lfloor\\log(n)\\rfloor+1.$$"
   ]
  },
  {
   "cell_type": "markdown",
   "metadata": {},
   "source": [
    "The task here is two provide three QASM circuits computing the mappings $|x,0,0\\rangle \\mapsto e^{i\\theta_j(x)}|x,y_j(x),0\\rangle$ expressed using single-qubit and $\\text{CNOT}$ gates, where $(y_1,y_2,y_3) \\,{=}\\, \\text{Popcount}(x)$ is the 4-input 3-output Popcount function and $j \\in \\{1,2,3\\}$. Each of the three will be scored separately."
   ]
  },
  {
   "cell_type": "markdown",
   "metadata": {},
   "source": [
    "## c) Circuit for j = 3\n",
    "<h3>\n",
    " $$|x,0,0\\rangle \\mapsto e^{i\\theta_{3}(x)}|x,y_{3}(x),0\\rangle$$"
   ]
  },
  {
   "cell_type": "code",
   "execution_count": null,
   "metadata": {},
   "outputs": [],
   "source": [
    "# Importing the qiskit module\n",
    "from qiskit import *\n",
    "\n",
    "# Defining input, output and scratch qubits\n",
    "x = 4    # number of input qubits\n",
    "y3 = 1   # number of output qubit \n",
    "s3 =  2   # number of scratch qubit\n",
    "\n",
    "# Defining Quantum Circuit with the given circuits\n",
    "def Circuit_3(In,Ou,Sc):\n",
    "    if Sc != 0:\n",
    "        # initiating required qubits\n",
    "        X = QuantumRegister(In, 'input') \n",
    "        Y3= QuantumRegister(Ou, 'output') \n",
    "        S = QuantumRegister(Sc, 'scratch')  \n",
    "        \n",
    "        # creating circuit with above qubits\n",
    "        Circ = QuantumCircuit(X,Y3,S)\n",
    "    else:\n",
    "        \n",
    "        # initiating required qubits\n",
    "        X = QuantumRegister(In, 'input') \n",
    "        Y3= QuantumRegister(Ou, 'output') \n",
    "        \n",
    "        # creating circuit with above qubits\n",
    "        Circ = QuantumCircuit(X,Y)\n",
    "    \n",
    "    ##### Create you circuit below #########\n",
    "    \n",
    "\n",
    "    \n",
    "    ########################################\n",
    "    \n",
    "    # Uncomment to draw quantum circuit\n",
    "#     display(Circ.draw('mpl'))\n",
    "    \n",
    "    # Transpiling the circuit into u, cnot\n",
    "    Circ = transpile(Circ, basis_gates=['u3','cx'])\n",
    "    \n",
    "    # Uncomment to draw transpiled circuit\n",
    "#     display(Circ.draw('mpl'))\n",
    "    \n",
    "    return Circ"
   ]
  },
  {
   "cell_type": "markdown",
   "metadata": {},
   "source": [
    "# Circuit verification and Cost Metric\n",
    "\n",
    "$\\textbf{Costing metric:}$ Circuit implementation cost is computed as follows, \n",
    "$$\\text{Cost} = G+D+\\frac{nS}{2},$$ \n",
    "where $G$ is the number of $\\text{CNOT}$ gates used (note how the single-qubit gates are \"free\", which takes into account their relatively small implementation cost), $D$ is the two-qubit circuit depth (defined as the maximum length of the shortest path from any starting qubit to any ending qubit in the circuit going left, up, or down along the lines in the circuit diagram and counting the number of two-qubit gates), and $S$ is the number of scratch qubits used.  The timeout for verification is set to $5$ minutes.  All implementations that time out or compute any of the popcount outputs incorrectly are assigned the score of ${+}\\infty$; the implementation with the smallest value of $\\text{Cost}$ wins."
   ]
  },
  {
   "cell_type": "code",
   "execution_count": null,
   "metadata": {},
   "outputs": [],
   "source": [
    "qc = Circuit_3(x,y3,s3)"
   ]
  },
  {
   "cell_type": "code",
   "execution_count": null,
   "metadata": {},
   "outputs": [],
   "source": [
    "%%time\n",
    "\n",
    "# import the grader package for verification\n",
    "from qc_grader import grade_ex1c\n",
    "\n",
    "grade_ex1c(qc)"
   ]
  },
  {
   "cell_type": "markdown",
   "metadata": {},
   "source": [
    "### Submission for evaluation "
   ]
  },
  {
   "cell_type": "code",
   "execution_count": null,
   "metadata": {},
   "outputs": [],
   "source": [
    "## Uncomment and run the following code to submit\n",
    "\n",
    "# from qc_grader import submit_ex1c\n",
    "\n",
    "# submit_ex1c(qc)"
   ]
  },
  {
   "cell_type": "code",
   "execution_count": null,
   "metadata": {},
   "outputs": [],
   "source": []
  }
 ],
 "metadata": {
  "kernelspec": {
   "display_name": "Python 3",
   "language": "python",
   "name": "python3"
  },
  "language_info": {
   "codemirror_mode": {
    "name": "ipython",
    "version": 3
   },
   "file_extension": ".py",
   "mimetype": "text/x-python",
   "name": "python",
   "nbconvert_exporter": "python",
   "pygments_lexer": "ipython3",
   "version": "3.7.9"
  }
 },
 "nbformat": 4,
 "nbformat_minor": 4
}
