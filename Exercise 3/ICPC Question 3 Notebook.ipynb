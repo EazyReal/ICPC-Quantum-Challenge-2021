{
 "cells": [
  {
   "cell_type": "markdown",
   "metadata": {},
   "source": [
    "# Problem: Grover search"
   ]
  },
  {
   "cell_type": "markdown",
   "metadata": {},
   "source": [
    "Suppose you are presented with an unstructured Boolean formula $f:\\{0,1\\}^n\\rightarrow\\{0,1\\}$ and asked whether $f(x)=1$ for any value of $x$ or $f(x)=0$ for all $x$. Without a quantum computer, you would potentially need to try all $N=2^n$ inputs ($O(N)$) to find a solution or show one does not exist. \n",
    "\n",
    "However, a quantum computer can use an \"oracle\" for $f$, i.e.~an $(n+A+1)$-qubit unitary $U_f$ such that $U_f|x,b,0^A\\rangle\\rightarrow|x,b\\oplus f(x),0^A\\rangle$, just $O(\\sqrt{N})$ times to answer this question. Here $A$ is the number of scratchpad (or \"ancillary\") qubits that may help in implementing $U_f$ and other parts of the search algorithm.\n",
    "\n",
    "Grover search begins with the $n$-qubit initial state\n",
    "<h3>\n",
    "$$|S\\rangle=\\frac{1}{\\sqrt{N}}\\sum_{x\\in\\{0,1\\}^n}|x\\rangle=\\sqrt{1-\\frac{m}{N}}\\underbrace{\\left(\\frac{1}{\\sqrt{N-m}}\\sum_{x:f(x)=0}|x\\rangle\\right)}_{=|\\overline{T}\\rangle}+\\sqrt{\\frac{m}{N}}\\underbrace{\\left(\\frac{1}{\\sqrt m}\\sum_{x:f(x)=1}|x\\rangle\\right)}_{=|T\\rangle},$$\n",
    "</h3>\n",
    "where $m$ is the number of inputs $x$ on which $f$ evaluates to $1$, and we call $|T\\rangle$ the \"target state\" and $|\\overline{T}\\rangle$ the \"non-target state\". Interestingly, despite being an algorithm operating on $n+A+1$ qubits, Grover search takes place only in a small subspace of the full Hilbert space -- the subspace $\\mathcal{T}$ spanned by $|\\overline{T}\\rangle\\otimes|0^{A+1}\\rangle$ and $|T\\rangle\\otimes|0^{A+1}\\rangle$. Let us write $|S\\rangle\\otimes|0^{A+1}\\rangle=\\left(\\sqrt{1-m/N},\\sqrt{m/N}\\right)$ as a 2-dimensional vector in this space.\n",
    "\n",
    "Here are two unitaries (called \"reflections\") acting on the subspace $\\mathcal{T}$.\n",
    "<h3>\n",
    "$$ R_S(\\alpha) = Id - (1-e^{-i\\alpha})|S\\rangle\\langle S|=\\begin{bmatrix}1-(1-e^{-i\\alpha})(1-\\frac{m}{N}) & -(1-e^{-i\\alpha})\\sqrt{1-\\frac{m}{N}}\\sqrt{\\frac{m}{N}} \\\\ -(1-e^{-i\\alpha})\\sqrt{1-\\frac{m}{N}}\\sqrt{\\frac{m}{N}} & 1-(1-e^{-i\\alpha})\\frac{m}{N}\\end{bmatrix},\\\\\n",
    "R_T(\\beta) = Id - (1-e^{i\\beta})|T\\rangle\\langle T| = \\begin{bmatrix}1 & 0 \\\\ 0 & e^{i\\beta}\\end{bmatrix}.$$\n",
    "</h3>\n",
    "The matrix elements here are the values of $\\langle T|R_S(\\alpha)|T\\rangle$, $\\langle T|R_S(\\alpha)|\\overline{T}\\rangle$, $\\langle\\overline{T}| R_S(\\alpha)|T\\rangle$, and $\\langle\\overline{T}|R_S(\\alpha)|\\overline{T}\\rangle$, and likewise for $R_T(\\beta)$. Implementations of $R_S$ and $R_T$ are any $(n+A+1)$-qubit circuits that act as shown by these $2\\times 2$ matrices on the subspace $\\mathcal{T}$.\n",
    "\n",
    "For instance, one might implement $R_T(\\beta)$ by creating a circuit that imparts a phase factor $e^{i\\beta}$ to the states (and only the states) $|x\\rangle$ for which $f(x)=1$. One way (though not the most efficient way) this can be done is by using $U_f$ to compute the value of $f$ into an ancilla, applying an appropriate single-qubit unitary to the ancilla, and then using $U_f$ a second time to uncompute the value of $f$ from the ancilla. The implementation of $R_S(\\alpha)$ can also be done analogously as one can tell from its similarity with $R_T$, i.e.~$R_S$ imparts a phase $e^{-i\\alpha}$ to only the $|S\\rangle$ state.\n",
    "\n",
    "Recall that the product of two unitaries $U_2U_1$ indicates that $U_1$ is applied first, then $U_2$. One way to build a circuit for $U_2U_1$ is to make circuits for $U_1$ and $U_2$ individually and then apply them sequentially.\n",
    "\n",
    "We consider just an $n=3$ example, for a total of $4+A$ qubits. Your task is to implement the \"Grover iterate\", the $(4+A)$-qubit unitary $R_S(\\alpha)R_T(\\beta)$, for arbitrary real parameters $\\alpha$ and $\\beta$ and several choices of the function $f$. You must do so for five different Boolean functions $f_0,f_1,f_2,f_3$, and $f_4$ where $f_m$ has $m$ solutions to $f(x)=1$, $x=x_1x_2x_3\\in\\{0,1\\}^3$. Evaluated modulo 2, we choose\n",
    "\\begin{align}\\label{eq:fs}\n",
    "f_0(x_1x_2x_3)&=0,\\quad f_1(x_1x_2x_3)=x_1x_2x_3,\\quad f_2(x_1x_2x_3)=x_1x_2x_3+(1-x_1)(1-x_2)(1-x_3),\\\\\\nonumber\n",
    "f_3(x_1x_2x_3)&=x_1+x_2+x_3+x_1x_2x_3,\\quad f_4(x_1x_2x_3)=x_1+x_2+x_3.\n",
    "\\end{align}\n",
    "For instance, $f_2$ returns 1 only when all three bits match, so it has two solutions, $x=000$ and $x=111$, to $f_2(x)=1$. Note that all functions treat the individual bits of the input $x_1,x_2,x_3$ symmetrically, or in other words, permuting the inputs does not affect the output. You may find it easiest to implement the oracle $U_{f_m}$ (as described above) first, then use it as a sub-circuit to implement the Grover iterate, but this is not strictly necessary.\n"
   ]
  },
  {
   "cell_type": "markdown",
   "metadata": {},
   "source": [
    "<h1>\n",
    "    $f_m$ for m = 0"
   ]
  },
  {
   "cell_type": "code",
   "execution_count": 4,
   "metadata": {},
   "outputs": [],
   "source": [
    "# Importing the qiskit module\n",
    "from qiskit import *\n",
    "\n",
    "# Defining input, output and scratch qubits\n",
    "x1 = 3    # number of input qubits\n",
    "y1 = 1   # number of output qubit \n",
    "s1 =  1   # number of scratch qubit\n",
    "m = 0  # for m = 0\n",
    "fm = []\n",
    "# Defining Quantum Circuit with the given circuits\n",
    "def Circuit_0(In,Ou,Sc):\n",
    "    if Sc != 0:\n",
    "        # initiating required qubits\n",
    "        X = QuantumRegister(In, 'input') \n",
    "        Y1= QuantumRegister(Ou, 'output') \n",
    "        S = QuantumRegister(Sc, 'scratch')  \n",
    "        \n",
    "        # creating circuit with above qubits\n",
    "        Circ = QuantumCircuit(X,Y1,S)\n",
    "    else:\n",
    "        \n",
    "        # initiating required qubits\n",
    "        X = QuantumRegister(In, 'input') \n",
    "        Y1= QuantumRegister(Ou, 'output') \n",
    "        \n",
    "        # creating circuit with above qubits\n",
    "        Circ = QuantumCircuit(X,Y1)\n",
    "    \n",
    "    ##### Create you circuit below #########\n",
    "    \n",
    "    Circ.h(X)\n",
    "    Circ.h(X)\n",
    "    Circ.x(X)\n",
    "    Circ.mcp(beta,X[0,1],Y1)\n",
    "    Circ.x(X)\n",
    "    Circ.h(X)\n",
    "\n",
    "    \n",
    "    ########################################\n",
    "    \n",
    "    # Uncomment to draw quantum circuit\n",
    "    display(Circ.draw('mpl'))\n",
    "    \n",
    "    # Transpiling the circuit into u, cnot\n",
    "    Circ = transpile(Circ, basis_gates=['u3','cx'])\n",
    "    \n",
    "    # Uncomment to draw transpiled circuit\n",
    "#     display(Circ.draw('mpl'))\n",
    "    \n",
    "    return Circ"
   ]
  },
  {
   "cell_type": "markdown",
   "metadata": {},
   "source": [
    "<h1>\n",
    "    $f_m$ for m = 1"
   ]
  },
  {
   "cell_type": "code",
   "execution_count": null,
   "metadata": {},
   "outputs": [],
   "source": []
  },
  {
   "cell_type": "markdown",
   "metadata": {},
   "source": [
    "<h1>\n",
    "    $f_m$ for m = 2"
   ]
  },
  {
   "cell_type": "code",
   "execution_count": null,
   "metadata": {},
   "outputs": [],
   "source": []
  },
  {
   "cell_type": "markdown",
   "metadata": {},
   "source": [
    "<h1>\n",
    "    $f_m$ for m = 3"
   ]
  },
  {
   "cell_type": "code",
   "execution_count": null,
   "metadata": {},
   "outputs": [],
   "source": []
  },
  {
   "cell_type": "markdown",
   "metadata": {},
   "source": [
    "<h1>\n",
    "    $f_m$ for m = 4"
   ]
  },
  {
   "cell_type": "code",
   "execution_count": null,
   "metadata": {},
   "outputs": [],
   "source": []
  },
  {
   "cell_type": "code",
   "execution_count": 3,
   "metadata": {},
   "outputs": [],
   "source": [
    "from qiskit import QuantumCircuit, QuantumRegister\n",
    "import numpy as np\n",
    "from qiskit import Aer, execute\n",
    "class SubmissionError(BaseException):\n",
    "    def __init__(self, message):\n",
    "        self.message = message\n",
    "    def __str__(self):\n",
    "        return self.message\n",
    "def produce_unitary(m, alpha, beta):\n",
    "    \"\"\"Creates a unitary matrix for comparison with submissions.\n",
    "        Args:\n",
    "            m (int): Index of boolean function to create oracle for (see question).\n",
    "            alpha (float): Angle as per question.\n",
    "            beta (float): Angle as per question.\n",
    "            naux (int): Number of auxiliary (scratch) qubits.\n",
    "        Returns:\n",
    "            ndarray: 2**(m+naux) * 2**(m+naux) unitary matrix, with phase\n",
    "                     of first element == 0.\n",
    "    \"\"\"\n",
    "    iden = np.identity(8, dtype=complex)\n",
    "    targets = {0: [],  # no solutions\n",
    "               1: ['111'],\n",
    "               2: ['111', '000'],\n",
    "               3: ['100','010','001'],\n",
    "               4: ['100','010','001','111']\n",
    "              }\n",
    "    # Create Oracle Unitary\n",
    "    oracle_matrix = iden\n",
    "    for state in targets[m]:\n",
    "        idx = int(state,2)\n",
    "        oracle_matrix[idx][idx] = np.exp(alpha*1j)\n",
    "    # Create Diffuser Unitary\n",
    "    diff_qc = QuantumCircuit(3)\n",
    "    diff_qc.h([0,1,2])\n",
    "    diff_qc.x([0,1,2])\n",
    "    diff_qc.mcp(beta,[0,1], 2)\n",
    "    diff_qc.x([0,1,2])\n",
    "    diff_qc.h([0,1,2])\n",
    "    usim = Aer.get_backend('unitary_simulator')\n",
    "    diff_matrix = execute(diff_qc, usim).result().get_unitary()\n",
    "    # Combine into iterator\n",
    "    iterate_matrix =  diff_matrix @ oracle_matrix\n",
    "    # Set phase of first element to 0 for comparison with submission\n",
    "    iterate_matrix = iterate_matrix*np.exp(-np.angle(iterate_matrix[0][0])*1j)\n",
    "    return iterate_matrix\n",
    "def is_correct(qc, m):\n",
    "    \"\"\"Args:\n",
    "           qc (QuantumCircuit): QuantumCircuit to check validity of. Input register must\n",
    "                                have name 'input' and size 3, all other qubits will be\n",
    "                                treated as scratch qubits. Circuit must have exactly two \n",
    "                                parameters named 'alpha' and 'beta'. \n",
    "           m (int): Index of boolean function to create oracle for (see question).\n",
    "       Returns:\n",
    "           Bool: True if circuit is correct.        \n",
    "    \"\"\"\n",
    "    usim = Aer.get_backend('unitary_simulator')\n",
    "    svsim = Aer.get_backend('statevector_simulator')\n",
    "    alpha = next(x for x in qc.parameters if x.name == 'alpha')\n",
    "    beta  = next(x for x in qc.parameters if x.name == 'beta')\n",
    "    nqubits = len(qc.qubits)\n",
    "    if nqubits > 10:\n",
    "        raise SubmissionError(\"Circuit cannot contain more than ten qubits.\")\n",
    "    # Make sure 'input' is always first\n",
    "    qr = QuantumRegister(3,'input')\n",
    "    pre_qc = QuantumCircuit(qr)\n",
    "    qc = pre_qc + qc\n",
    "    if len(qc.qubits) != nqubits:  # Probably register name mismatch\n",
    "        raise SubmissionError(\"You must name your three-qubit input register 'input'.\")\n",
    "    for trials in range(30):\n",
    "        param = {alpha: np.random.rand()*np.pi*2,\n",
    "                  beta: np.random.rand()*np.pi*2}\n",
    "        submission = execute(qc, usim, parameter_binds=[param]).result().get_unitary()\n",
    "        submission = submission*np.exp(-np.angle(submission[0][0])*1j)\n",
    "        submission = submission[0:8,0:8]  # matrix if all aux qubits = |0>\n",
    "        is_close = np.isclose(submission,\n",
    "                         produce_unitary(m, param[alpha], param[beta]))\n",
    "        if False in is_close:\n",
    "            raise SubmissionError(f\"Circuit is incorrect (alpha = {param[alpha]}, beta = {param[beta]}).\")\n",
    "    return True"
   ]
  },
  {
   "cell_type": "code",
   "execution_count": 5,
   "metadata": {},
   "outputs": [
    {
     "ename": "NameError",
     "evalue": "name 'beta' is not defined",
     "output_type": "error",
     "traceback": [
      "\u001b[0;31m---------------------------------------------------------------------------\u001b[0m",
      "\u001b[0;31mNameError\u001b[0m                                 Traceback (most recent call last)",
      "\u001b[0;32m<ipython-input-5-36db6bf11806>\u001b[0m in \u001b[0;36m<module>\u001b[0;34m\u001b[0m\n\u001b[0;32m----> 1\u001b[0;31m \u001b[0mis_correct\u001b[0m\u001b[0;34m(\u001b[0m\u001b[0mCircuit_0\u001b[0m\u001b[0;34m(\u001b[0m\u001b[0mx1\u001b[0m\u001b[0;34m,\u001b[0m\u001b[0my1\u001b[0m\u001b[0;34m,\u001b[0m\u001b[0ms1\u001b[0m\u001b[0;34m)\u001b[0m\u001b[0;34m,\u001b[0m\u001b[0mm\u001b[0m\u001b[0;34m)\u001b[0m\u001b[0;34m\u001b[0m\u001b[0;34m\u001b[0m\u001b[0m\n\u001b[0m",
      "\u001b[0;32m<ipython-input-4-1e34124d89b5>\u001b[0m in \u001b[0;36mCircuit_0\u001b[0;34m(In, Ou, Sc)\u001b[0m\n\u001b[1;32m     32\u001b[0m     \u001b[0mCirc\u001b[0m\u001b[0;34m.\u001b[0m\u001b[0mh\u001b[0m\u001b[0;34m(\u001b[0m\u001b[0mX\u001b[0m\u001b[0;34m)\u001b[0m\u001b[0;34m\u001b[0m\u001b[0;34m\u001b[0m\u001b[0m\n\u001b[1;32m     33\u001b[0m     \u001b[0mCirc\u001b[0m\u001b[0;34m.\u001b[0m\u001b[0mx\u001b[0m\u001b[0;34m(\u001b[0m\u001b[0mX\u001b[0m\u001b[0;34m)\u001b[0m\u001b[0;34m\u001b[0m\u001b[0;34m\u001b[0m\u001b[0m\n\u001b[0;32m---> 34\u001b[0;31m     \u001b[0mCirc\u001b[0m\u001b[0;34m.\u001b[0m\u001b[0mmcp\u001b[0m\u001b[0;34m(\u001b[0m\u001b[0mbeta\u001b[0m\u001b[0;34m,\u001b[0m\u001b[0mX\u001b[0m\u001b[0;34m[\u001b[0m\u001b[0;36m0\u001b[0m\u001b[0;34m,\u001b[0m\u001b[0;36m1\u001b[0m\u001b[0;34m]\u001b[0m\u001b[0;34m,\u001b[0m\u001b[0mY1\u001b[0m\u001b[0;34m)\u001b[0m\u001b[0;34m\u001b[0m\u001b[0;34m\u001b[0m\u001b[0m\n\u001b[0m\u001b[1;32m     35\u001b[0m     \u001b[0mCirc\u001b[0m\u001b[0;34m.\u001b[0m\u001b[0mx\u001b[0m\u001b[0;34m(\u001b[0m\u001b[0mX\u001b[0m\u001b[0;34m)\u001b[0m\u001b[0;34m\u001b[0m\u001b[0;34m\u001b[0m\u001b[0m\n\u001b[1;32m     36\u001b[0m     \u001b[0mCirc\u001b[0m\u001b[0;34m.\u001b[0m\u001b[0mh\u001b[0m\u001b[0;34m(\u001b[0m\u001b[0mX\u001b[0m\u001b[0;34m)\u001b[0m\u001b[0;34m\u001b[0m\u001b[0;34m\u001b[0m\u001b[0m\n",
      "\u001b[0;31mNameError\u001b[0m: name 'beta' is not defined"
     ]
    }
   ],
   "source": [
    "is_correct(Circuit_0(x1,y1,s1),m)"
   ]
  },
  {
   "cell_type": "code",
   "execution_count": null,
   "metadata": {},
   "outputs": [],
   "source": []
  }
 ],
 "metadata": {
  "kernelspec": {
   "display_name": "Python 3",
   "language": "python",
   "name": "python3"
  },
  "language_info": {
   "codemirror_mode": {
    "name": "ipython",
    "version": 3
   },
   "file_extension": ".py",
   "mimetype": "text/x-python",
   "name": "python",
   "nbconvert_exporter": "python",
   "pygments_lexer": "ipython3",
   "version": "3.8.3"
  }
 },
 "nbformat": 4,
 "nbformat_minor": 4
}
